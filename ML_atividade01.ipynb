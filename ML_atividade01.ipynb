{
  "nbformat": 4,
  "nbformat_minor": 0,
  "metadata": {
    "colab": {
      "provenance": [],
      "include_colab_link": true
    },
    "kernelspec": {
      "name": "python3",
      "display_name": "Python 3"
    },
    "language_info": {
      "name": "python"
    }
  },
  "cells": [
    {
      "cell_type": "markdown",
      "metadata": {
        "id": "view-in-github",
        "colab_type": "text"
      },
      "source": [
        "<a href=\"https://colab.research.google.com/github/ClaudioAMF1/Machine-Learning/blob/main/ML_atividade01.ipynb\" target=\"_parent\"><img src=\"https://colab.research.google.com/assets/colab-badge.svg\" alt=\"Open In Colab\"/></a>"
      ]
    },
    {
      "cell_type": "code",
      "execution_count": null,
      "metadata": {
        "id": "SRDBSEPQ9fSy"
      },
      "outputs": [],
      "source": [
        "import pandas as pd"
      ]
    },
    {
      "cell_type": "code",
      "source": [
        "url = \"https://raw.githubusercontent.com/bluenex/WekaLearningDataset/master/bank/bank-data.csv\"\n",
        "arquivo = pd.read_csv(url)\n",
        "arquivo.head()"
      ],
      "metadata": {
        "colab": {
          "base_uri": "https://localhost:8080/",
          "height": 206
        },
        "id": "wrmW9Pbt-HVe",
        "outputId": "8b6e69fe-d6e2-4707-f5ed-0702fe5581c8"
      },
      "execution_count": null,
      "outputs": [
        {
          "output_type": "execute_result",
          "data": {
            "text/plain": [
              "        id  age     sex      region   income married  children  car save_act  \\\n",
              "0  ID12101   48  FEMALE  INNER_CITY  17546.0      NO         1   NO       NO   \n",
              "1  ID12102   40    MALE        TOWN  30085.1     YES         3  YES       NO   \n",
              "2  ID12103   51  FEMALE  INNER_CITY  16575.4     YES         0  YES      YES   \n",
              "3  ID12104   23  FEMALE        TOWN  20375.4     YES         3   NO       NO   \n",
              "4  ID12105   57  FEMALE       RURAL  50576.3     YES         0   NO      YES   \n",
              "\n",
              "  current_act mortgage  pep  \n",
              "0          NO       NO  YES  \n",
              "1         YES      YES   NO  \n",
              "2         YES       NO   NO  \n",
              "3         YES       NO   NO  \n",
              "4          NO       NO   NO  "
            ],
            "text/html": [
              "\n",
              "  <div id=\"df-55370c01-9e57-4277-83e8-1f8c414ad605\" class=\"colab-df-container\">\n",
              "    <div>\n",
              "<style scoped>\n",
              "    .dataframe tbody tr th:only-of-type {\n",
              "        vertical-align: middle;\n",
              "    }\n",
              "\n",
              "    .dataframe tbody tr th {\n",
              "        vertical-align: top;\n",
              "    }\n",
              "\n",
              "    .dataframe thead th {\n",
              "        text-align: right;\n",
              "    }\n",
              "</style>\n",
              "<table border=\"1\" class=\"dataframe\">\n",
              "  <thead>\n",
              "    <tr style=\"text-align: right;\">\n",
              "      <th></th>\n",
              "      <th>id</th>\n",
              "      <th>age</th>\n",
              "      <th>sex</th>\n",
              "      <th>region</th>\n",
              "      <th>income</th>\n",
              "      <th>married</th>\n",
              "      <th>children</th>\n",
              "      <th>car</th>\n",
              "      <th>save_act</th>\n",
              "      <th>current_act</th>\n",
              "      <th>mortgage</th>\n",
              "      <th>pep</th>\n",
              "    </tr>\n",
              "  </thead>\n",
              "  <tbody>\n",
              "    <tr>\n",
              "      <th>0</th>\n",
              "      <td>ID12101</td>\n",
              "      <td>48</td>\n",
              "      <td>FEMALE</td>\n",
              "      <td>INNER_CITY</td>\n",
              "      <td>17546.0</td>\n",
              "      <td>NO</td>\n",
              "      <td>1</td>\n",
              "      <td>NO</td>\n",
              "      <td>NO</td>\n",
              "      <td>NO</td>\n",
              "      <td>NO</td>\n",
              "      <td>YES</td>\n",
              "    </tr>\n",
              "    <tr>\n",
              "      <th>1</th>\n",
              "      <td>ID12102</td>\n",
              "      <td>40</td>\n",
              "      <td>MALE</td>\n",
              "      <td>TOWN</td>\n",
              "      <td>30085.1</td>\n",
              "      <td>YES</td>\n",
              "      <td>3</td>\n",
              "      <td>YES</td>\n",
              "      <td>NO</td>\n",
              "      <td>YES</td>\n",
              "      <td>YES</td>\n",
              "      <td>NO</td>\n",
              "    </tr>\n",
              "    <tr>\n",
              "      <th>2</th>\n",
              "      <td>ID12103</td>\n",
              "      <td>51</td>\n",
              "      <td>FEMALE</td>\n",
              "      <td>INNER_CITY</td>\n",
              "      <td>16575.4</td>\n",
              "      <td>YES</td>\n",
              "      <td>0</td>\n",
              "      <td>YES</td>\n",
              "      <td>YES</td>\n",
              "      <td>YES</td>\n",
              "      <td>NO</td>\n",
              "      <td>NO</td>\n",
              "    </tr>\n",
              "    <tr>\n",
              "      <th>3</th>\n",
              "      <td>ID12104</td>\n",
              "      <td>23</td>\n",
              "      <td>FEMALE</td>\n",
              "      <td>TOWN</td>\n",
              "      <td>20375.4</td>\n",
              "      <td>YES</td>\n",
              "      <td>3</td>\n",
              "      <td>NO</td>\n",
              "      <td>NO</td>\n",
              "      <td>YES</td>\n",
              "      <td>NO</td>\n",
              "      <td>NO</td>\n",
              "    </tr>\n",
              "    <tr>\n",
              "      <th>4</th>\n",
              "      <td>ID12105</td>\n",
              "      <td>57</td>\n",
              "      <td>FEMALE</td>\n",
              "      <td>RURAL</td>\n",
              "      <td>50576.3</td>\n",
              "      <td>YES</td>\n",
              "      <td>0</td>\n",
              "      <td>NO</td>\n",
              "      <td>YES</td>\n",
              "      <td>NO</td>\n",
              "      <td>NO</td>\n",
              "      <td>NO</td>\n",
              "    </tr>\n",
              "  </tbody>\n",
              "</table>\n",
              "</div>\n",
              "    <div class=\"colab-df-buttons\">\n",
              "\n",
              "  <div class=\"colab-df-container\">\n",
              "    <button class=\"colab-df-convert\" onclick=\"convertToInteractive('df-55370c01-9e57-4277-83e8-1f8c414ad605')\"\n",
              "            title=\"Convert this dataframe to an interactive table.\"\n",
              "            style=\"display:none;\">\n",
              "\n",
              "  <svg xmlns=\"http://www.w3.org/2000/svg\" height=\"24px\" viewBox=\"0 -960 960 960\">\n",
              "    <path d=\"M120-120v-720h720v720H120Zm60-500h600v-160H180v160Zm220 220h160v-160H400v160Zm0 220h160v-160H400v160ZM180-400h160v-160H180v160Zm440 0h160v-160H620v160ZM180-180h160v-160H180v160Zm440 0h160v-160H620v160Z\"/>\n",
              "  </svg>\n",
              "    </button>\n",
              "\n",
              "  <style>\n",
              "    .colab-df-container {\n",
              "      display:flex;\n",
              "      gap: 12px;\n",
              "    }\n",
              "\n",
              "    .colab-df-convert {\n",
              "      background-color: #E8F0FE;\n",
              "      border: none;\n",
              "      border-radius: 50%;\n",
              "      cursor: pointer;\n",
              "      display: none;\n",
              "      fill: #1967D2;\n",
              "      height: 32px;\n",
              "      padding: 0 0 0 0;\n",
              "      width: 32px;\n",
              "    }\n",
              "\n",
              "    .colab-df-convert:hover {\n",
              "      background-color: #E2EBFA;\n",
              "      box-shadow: 0px 1px 2px rgba(60, 64, 67, 0.3), 0px 1px 3px 1px rgba(60, 64, 67, 0.15);\n",
              "      fill: #174EA6;\n",
              "    }\n",
              "\n",
              "    .colab-df-buttons div {\n",
              "      margin-bottom: 4px;\n",
              "    }\n",
              "\n",
              "    [theme=dark] .colab-df-convert {\n",
              "      background-color: #3B4455;\n",
              "      fill: #D2E3FC;\n",
              "    }\n",
              "\n",
              "    [theme=dark] .colab-df-convert:hover {\n",
              "      background-color: #434B5C;\n",
              "      box-shadow: 0px 1px 3px 1px rgba(0, 0, 0, 0.15);\n",
              "      filter: drop-shadow(0px 1px 2px rgba(0, 0, 0, 0.3));\n",
              "      fill: #FFFFFF;\n",
              "    }\n",
              "  </style>\n",
              "\n",
              "    <script>\n",
              "      const buttonEl =\n",
              "        document.querySelector('#df-55370c01-9e57-4277-83e8-1f8c414ad605 button.colab-df-convert');\n",
              "      buttonEl.style.display =\n",
              "        google.colab.kernel.accessAllowed ? 'block' : 'none';\n",
              "\n",
              "      async function convertToInteractive(key) {\n",
              "        const element = document.querySelector('#df-55370c01-9e57-4277-83e8-1f8c414ad605');\n",
              "        const dataTable =\n",
              "          await google.colab.kernel.invokeFunction('convertToInteractive',\n",
              "                                                    [key], {});\n",
              "        if (!dataTable) return;\n",
              "\n",
              "        const docLinkHtml = 'Like what you see? Visit the ' +\n",
              "          '<a target=\"_blank\" href=https://colab.research.google.com/notebooks/data_table.ipynb>data table notebook</a>'\n",
              "          + ' to learn more about interactive tables.';\n",
              "        element.innerHTML = '';\n",
              "        dataTable['output_type'] = 'display_data';\n",
              "        await google.colab.output.renderOutput(dataTable, element);\n",
              "        const docLink = document.createElement('div');\n",
              "        docLink.innerHTML = docLinkHtml;\n",
              "        element.appendChild(docLink);\n",
              "      }\n",
              "    </script>\n",
              "  </div>\n",
              "\n",
              "\n",
              "<div id=\"df-b8ee4a9c-9e7b-408e-9b0b-7f7b276017e2\">\n",
              "  <button class=\"colab-df-quickchart\" onclick=\"quickchart('df-b8ee4a9c-9e7b-408e-9b0b-7f7b276017e2')\"\n",
              "            title=\"Suggest charts\"\n",
              "            style=\"display:none;\">\n",
              "\n",
              "<svg xmlns=\"http://www.w3.org/2000/svg\" height=\"24px\"viewBox=\"0 0 24 24\"\n",
              "     width=\"24px\">\n",
              "    <g>\n",
              "        <path d=\"M19 3H5c-1.1 0-2 .9-2 2v14c0 1.1.9 2 2 2h14c1.1 0 2-.9 2-2V5c0-1.1-.9-2-2-2zM9 17H7v-7h2v7zm4 0h-2V7h2v10zm4 0h-2v-4h2v4z\"/>\n",
              "    </g>\n",
              "</svg>\n",
              "  </button>\n",
              "\n",
              "<style>\n",
              "  .colab-df-quickchart {\n",
              "      --bg-color: #E8F0FE;\n",
              "      --fill-color: #1967D2;\n",
              "      --hover-bg-color: #E2EBFA;\n",
              "      --hover-fill-color: #174EA6;\n",
              "      --disabled-fill-color: #AAA;\n",
              "      --disabled-bg-color: #DDD;\n",
              "  }\n",
              "\n",
              "  [theme=dark] .colab-df-quickchart {\n",
              "      --bg-color: #3B4455;\n",
              "      --fill-color: #D2E3FC;\n",
              "      --hover-bg-color: #434B5C;\n",
              "      --hover-fill-color: #FFFFFF;\n",
              "      --disabled-bg-color: #3B4455;\n",
              "      --disabled-fill-color: #666;\n",
              "  }\n",
              "\n",
              "  .colab-df-quickchart {\n",
              "    background-color: var(--bg-color);\n",
              "    border: none;\n",
              "    border-radius: 50%;\n",
              "    cursor: pointer;\n",
              "    display: none;\n",
              "    fill: var(--fill-color);\n",
              "    height: 32px;\n",
              "    padding: 0;\n",
              "    width: 32px;\n",
              "  }\n",
              "\n",
              "  .colab-df-quickchart:hover {\n",
              "    background-color: var(--hover-bg-color);\n",
              "    box-shadow: 0 1px 2px rgba(60, 64, 67, 0.3), 0 1px 3px 1px rgba(60, 64, 67, 0.15);\n",
              "    fill: var(--button-hover-fill-color);\n",
              "  }\n",
              "\n",
              "  .colab-df-quickchart-complete:disabled,\n",
              "  .colab-df-quickchart-complete:disabled:hover {\n",
              "    background-color: var(--disabled-bg-color);\n",
              "    fill: var(--disabled-fill-color);\n",
              "    box-shadow: none;\n",
              "  }\n",
              "\n",
              "  .colab-df-spinner {\n",
              "    border: 2px solid var(--fill-color);\n",
              "    border-color: transparent;\n",
              "    border-bottom-color: var(--fill-color);\n",
              "    animation:\n",
              "      spin 1s steps(1) infinite;\n",
              "  }\n",
              "\n",
              "  @keyframes spin {\n",
              "    0% {\n",
              "      border-color: transparent;\n",
              "      border-bottom-color: var(--fill-color);\n",
              "      border-left-color: var(--fill-color);\n",
              "    }\n",
              "    20% {\n",
              "      border-color: transparent;\n",
              "      border-left-color: var(--fill-color);\n",
              "      border-top-color: var(--fill-color);\n",
              "    }\n",
              "    30% {\n",
              "      border-color: transparent;\n",
              "      border-left-color: var(--fill-color);\n",
              "      border-top-color: var(--fill-color);\n",
              "      border-right-color: var(--fill-color);\n",
              "    }\n",
              "    40% {\n",
              "      border-color: transparent;\n",
              "      border-right-color: var(--fill-color);\n",
              "      border-top-color: var(--fill-color);\n",
              "    }\n",
              "    60% {\n",
              "      border-color: transparent;\n",
              "      border-right-color: var(--fill-color);\n",
              "    }\n",
              "    80% {\n",
              "      border-color: transparent;\n",
              "      border-right-color: var(--fill-color);\n",
              "      border-bottom-color: var(--fill-color);\n",
              "    }\n",
              "    90% {\n",
              "      border-color: transparent;\n",
              "      border-bottom-color: var(--fill-color);\n",
              "    }\n",
              "  }\n",
              "</style>\n",
              "\n",
              "  <script>\n",
              "    async function quickchart(key) {\n",
              "      const quickchartButtonEl =\n",
              "        document.querySelector('#' + key + ' button');\n",
              "      quickchartButtonEl.disabled = true;  // To prevent multiple clicks.\n",
              "      quickchartButtonEl.classList.add('colab-df-spinner');\n",
              "      try {\n",
              "        const charts = await google.colab.kernel.invokeFunction(\n",
              "            'suggestCharts', [key], {});\n",
              "      } catch (error) {\n",
              "        console.error('Error during call to suggestCharts:', error);\n",
              "      }\n",
              "      quickchartButtonEl.classList.remove('colab-df-spinner');\n",
              "      quickchartButtonEl.classList.add('colab-df-quickchart-complete');\n",
              "    }\n",
              "    (() => {\n",
              "      let quickchartButtonEl =\n",
              "        document.querySelector('#df-b8ee4a9c-9e7b-408e-9b0b-7f7b276017e2 button');\n",
              "      quickchartButtonEl.style.display =\n",
              "        google.colab.kernel.accessAllowed ? 'block' : 'none';\n",
              "    })();\n",
              "  </script>\n",
              "</div>\n",
              "\n",
              "    </div>\n",
              "  </div>\n"
            ],
            "application/vnd.google.colaboratory.intrinsic+json": {
              "type": "dataframe",
              "variable_name": "arquivo",
              "summary": "{\n  \"name\": \"arquivo\",\n  \"rows\": 600,\n  \"fields\": [\n    {\n      \"column\": \"id\",\n      \"properties\": {\n        \"dtype\": \"string\",\n        \"num_unique_values\": 600,\n        \"samples\": [\n          \"ID12211\",\n          \"ID12520\",\n          \"ID12666\"\n        ],\n        \"semantic_type\": \"\",\n        \"description\": \"\"\n      }\n    },\n    {\n      \"column\": \"age\",\n      \"properties\": {\n        \"dtype\": \"number\",\n        \"std\": 14,\n        \"min\": 18,\n        \"max\": 67,\n        \"num_unique_values\": 50,\n        \"samples\": [\n          38,\n          21,\n          32\n        ],\n        \"semantic_type\": \"\",\n        \"description\": \"\"\n      }\n    },\n    {\n      \"column\": \"sex\",\n      \"properties\": {\n        \"dtype\": \"category\",\n        \"num_unique_values\": 2,\n        \"samples\": [\n          \"MALE\",\n          \"FEMALE\"\n        ],\n        \"semantic_type\": \"\",\n        \"description\": \"\"\n      }\n    },\n    {\n      \"column\": \"region\",\n      \"properties\": {\n        \"dtype\": \"category\",\n        \"num_unique_values\": 4,\n        \"samples\": [\n          \"TOWN\",\n          \"SUBURBAN\"\n        ],\n        \"semantic_type\": \"\",\n        \"description\": \"\"\n      }\n    },\n    {\n      \"column\": \"income\",\n      \"properties\": {\n        \"dtype\": \"number\",\n        \"std\": 12899.468245630569,\n        \"min\": 5014.21,\n        \"max\": 63130.1,\n        \"num_unique_values\": 599,\n        \"samples\": [\n          37330.5,\n          48950.9\n        ],\n        \"semantic_type\": \"\",\n        \"description\": \"\"\n      }\n    },\n    {\n      \"column\": \"married\",\n      \"properties\": {\n        \"dtype\": \"category\",\n        \"num_unique_values\": 2,\n        \"samples\": [\n          \"YES\",\n          \"NO\"\n        ],\n        \"semantic_type\": \"\",\n        \"description\": \"\"\n      }\n    },\n    {\n      \"column\": \"children\",\n      \"properties\": {\n        \"dtype\": \"number\",\n        \"std\": 1,\n        \"min\": 0,\n        \"max\": 3,\n        \"num_unique_values\": 4,\n        \"samples\": [\n          3,\n          2\n        ],\n        \"semantic_type\": \"\",\n        \"description\": \"\"\n      }\n    },\n    {\n      \"column\": \"car\",\n      \"properties\": {\n        \"dtype\": \"category\",\n        \"num_unique_values\": 2,\n        \"samples\": [\n          \"YES\",\n          \"NO\"\n        ],\n        \"semantic_type\": \"\",\n        \"description\": \"\"\n      }\n    },\n    {\n      \"column\": \"save_act\",\n      \"properties\": {\n        \"dtype\": \"category\",\n        \"num_unique_values\": 2,\n        \"samples\": [\n          \"YES\",\n          \"NO\"\n        ],\n        \"semantic_type\": \"\",\n        \"description\": \"\"\n      }\n    },\n    {\n      \"column\": \"current_act\",\n      \"properties\": {\n        \"dtype\": \"category\",\n        \"num_unique_values\": 2,\n        \"samples\": [\n          \"YES\",\n          \"NO\"\n        ],\n        \"semantic_type\": \"\",\n        \"description\": \"\"\n      }\n    },\n    {\n      \"column\": \"mortgage\",\n      \"properties\": {\n        \"dtype\": \"category\",\n        \"num_unique_values\": 2,\n        \"samples\": [\n          \"YES\",\n          \"NO\"\n        ],\n        \"semantic_type\": \"\",\n        \"description\": \"\"\n      }\n    },\n    {\n      \"column\": \"pep\",\n      \"properties\": {\n        \"dtype\": \"category\",\n        \"num_unique_values\": 2,\n        \"samples\": [\n          \"NO\",\n          \"YES\"\n        ],\n        \"semantic_type\": \"\",\n        \"description\": \"\"\n      }\n    }\n  ]\n}"
            }
          },
          "metadata": {},
          "execution_count": 2
        }
      ]
    },
    {
      "cell_type": "code",
      "source": [
        "print(arquivo.info())"
      ],
      "metadata": {
        "colab": {
          "base_uri": "https://localhost:8080/"
        },
        "id": "A0WnyFv8-z-l",
        "outputId": "768a645c-43b7-432a-9de0-8452da65efb5"
      },
      "execution_count": null,
      "outputs": [
        {
          "output_type": "stream",
          "name": "stdout",
          "text": [
            "<class 'pandas.core.frame.DataFrame'>\n",
            "RangeIndex: 600 entries, 0 to 599\n",
            "Data columns (total 12 columns):\n",
            " #   Column       Non-Null Count  Dtype  \n",
            "---  ------       --------------  -----  \n",
            " 0   id           600 non-null    object \n",
            " 1   age          600 non-null    int64  \n",
            " 2   sex          600 non-null    object \n",
            " 3   region       600 non-null    object \n",
            " 4   income       600 non-null    float64\n",
            " 5   married      600 non-null    object \n",
            " 6   children     600 non-null    int64  \n",
            " 7   car          600 non-null    object \n",
            " 8   save_act     600 non-null    object \n",
            " 9   current_act  600 non-null    object \n",
            " 10  mortgage     600 non-null    object \n",
            " 11  pep          600 non-null    object \n",
            "dtypes: float64(1), int64(2), object(9)\n",
            "memory usage: 56.4+ KB\n",
            "None\n"
          ]
        }
      ]
    },
    {
      "cell_type": "code",
      "source": [
        "print(arquivo.describe())"
      ],
      "metadata": {
        "colab": {
          "base_uri": "https://localhost:8080/"
        },
        "id": "FtmnMO5a-55e",
        "outputId": "0c2117e3-80c6-480a-a37e-7107b1f6c4d0"
      },
      "execution_count": null,
      "outputs": [
        {
          "output_type": "stream",
          "name": "stdout",
          "text": [
            "              age        income    children\n",
            "count  600.000000    600.000000  600.000000\n",
            "mean    42.395000  27524.031217    1.011667\n",
            "std     14.424947  12899.468246    1.056752\n",
            "min     18.000000   5014.210000    0.000000\n",
            "25%     30.000000  17264.500000    0.000000\n",
            "50%     42.000000  24925.300000    1.000000\n",
            "75%     55.250000  36172.675000    2.000000\n",
            "max     67.000000  63130.100000    3.000000\n"
          ]
        }
      ]
    },
    {
      "cell_type": "code",
      "source": [
        "arquivo.pop('id')"
      ],
      "metadata": {
        "colab": {
          "base_uri": "https://localhost:8080/",
          "height": 458
        },
        "id": "wyIKDDj1BGoh",
        "outputId": "c5244027-381a-4442-cf2e-e28c6b061cfb"
      },
      "execution_count": null,
      "outputs": [
        {
          "output_type": "execute_result",
          "data": {
            "text/plain": [
              "0      ID12101\n",
              "1      ID12102\n",
              "2      ID12103\n",
              "3      ID12104\n",
              "4      ID12105\n",
              "        ...   \n",
              "595    ID12696\n",
              "596    ID12697\n",
              "597    ID12698\n",
              "598    ID12699\n",
              "599    ID12700\n",
              "Name: id, Length: 600, dtype: object"
            ],
            "text/html": [
              "<div>\n",
              "<style scoped>\n",
              "    .dataframe tbody tr th:only-of-type {\n",
              "        vertical-align: middle;\n",
              "    }\n",
              "\n",
              "    .dataframe tbody tr th {\n",
              "        vertical-align: top;\n",
              "    }\n",
              "\n",
              "    .dataframe thead th {\n",
              "        text-align: right;\n",
              "    }\n",
              "</style>\n",
              "<table border=\"1\" class=\"dataframe\">\n",
              "  <thead>\n",
              "    <tr style=\"text-align: right;\">\n",
              "      <th></th>\n",
              "      <th>id</th>\n",
              "    </tr>\n",
              "  </thead>\n",
              "  <tbody>\n",
              "    <tr>\n",
              "      <th>0</th>\n",
              "      <td>ID12101</td>\n",
              "    </tr>\n",
              "    <tr>\n",
              "      <th>1</th>\n",
              "      <td>ID12102</td>\n",
              "    </tr>\n",
              "    <tr>\n",
              "      <th>2</th>\n",
              "      <td>ID12103</td>\n",
              "    </tr>\n",
              "    <tr>\n",
              "      <th>3</th>\n",
              "      <td>ID12104</td>\n",
              "    </tr>\n",
              "    <tr>\n",
              "      <th>4</th>\n",
              "      <td>ID12105</td>\n",
              "    </tr>\n",
              "    <tr>\n",
              "      <th>...</th>\n",
              "      <td>...</td>\n",
              "    </tr>\n",
              "    <tr>\n",
              "      <th>595</th>\n",
              "      <td>ID12696</td>\n",
              "    </tr>\n",
              "    <tr>\n",
              "      <th>596</th>\n",
              "      <td>ID12697</td>\n",
              "    </tr>\n",
              "    <tr>\n",
              "      <th>597</th>\n",
              "      <td>ID12698</td>\n",
              "    </tr>\n",
              "    <tr>\n",
              "      <th>598</th>\n",
              "      <td>ID12699</td>\n",
              "    </tr>\n",
              "    <tr>\n",
              "      <th>599</th>\n",
              "      <td>ID12700</td>\n",
              "    </tr>\n",
              "  </tbody>\n",
              "</table>\n",
              "<p>600 rows × 1 columns</p>\n",
              "</div><br><label><b>dtype:</b> object</label>"
            ]
          },
          "metadata": {},
          "execution_count": 5
        }
      ]
    },
    {
      "cell_type": "code",
      "source": [
        "arquivo.head()"
      ],
      "metadata": {
        "colab": {
          "base_uri": "https://localhost:8080/",
          "height": 206
        },
        "id": "Z31zqmkAB94V",
        "outputId": "6b81dc73-dca5-4232-88cb-449b1e993afc"
      },
      "execution_count": null,
      "outputs": [
        {
          "output_type": "execute_result",
          "data": {
            "text/plain": [
              "   age     sex      region   income married  children  car save_act  \\\n",
              "0   48  FEMALE  INNER_CITY  17546.0      NO         1   NO       NO   \n",
              "1   40    MALE        TOWN  30085.1     YES         3  YES       NO   \n",
              "2   51  FEMALE  INNER_CITY  16575.4     YES         0  YES      YES   \n",
              "3   23  FEMALE        TOWN  20375.4     YES         3   NO       NO   \n",
              "4   57  FEMALE       RURAL  50576.3     YES         0   NO      YES   \n",
              "\n",
              "  current_act mortgage  pep  \n",
              "0          NO       NO  YES  \n",
              "1         YES      YES   NO  \n",
              "2         YES       NO   NO  \n",
              "3         YES       NO   NO  \n",
              "4          NO       NO   NO  "
            ],
            "text/html": [
              "\n",
              "  <div id=\"df-def891e5-cf5b-455c-ae42-94feb67a115d\" class=\"colab-df-container\">\n",
              "    <div>\n",
              "<style scoped>\n",
              "    .dataframe tbody tr th:only-of-type {\n",
              "        vertical-align: middle;\n",
              "    }\n",
              "\n",
              "    .dataframe tbody tr th {\n",
              "        vertical-align: top;\n",
              "    }\n",
              "\n",
              "    .dataframe thead th {\n",
              "        text-align: right;\n",
              "    }\n",
              "</style>\n",
              "<table border=\"1\" class=\"dataframe\">\n",
              "  <thead>\n",
              "    <tr style=\"text-align: right;\">\n",
              "      <th></th>\n",
              "      <th>age</th>\n",
              "      <th>sex</th>\n",
              "      <th>region</th>\n",
              "      <th>income</th>\n",
              "      <th>married</th>\n",
              "      <th>children</th>\n",
              "      <th>car</th>\n",
              "      <th>save_act</th>\n",
              "      <th>current_act</th>\n",
              "      <th>mortgage</th>\n",
              "      <th>pep</th>\n",
              "    </tr>\n",
              "  </thead>\n",
              "  <tbody>\n",
              "    <tr>\n",
              "      <th>0</th>\n",
              "      <td>48</td>\n",
              "      <td>FEMALE</td>\n",
              "      <td>INNER_CITY</td>\n",
              "      <td>17546.0</td>\n",
              "      <td>NO</td>\n",
              "      <td>1</td>\n",
              "      <td>NO</td>\n",
              "      <td>NO</td>\n",
              "      <td>NO</td>\n",
              "      <td>NO</td>\n",
              "      <td>YES</td>\n",
              "    </tr>\n",
              "    <tr>\n",
              "      <th>1</th>\n",
              "      <td>40</td>\n",
              "      <td>MALE</td>\n",
              "      <td>TOWN</td>\n",
              "      <td>30085.1</td>\n",
              "      <td>YES</td>\n",
              "      <td>3</td>\n",
              "      <td>YES</td>\n",
              "      <td>NO</td>\n",
              "      <td>YES</td>\n",
              "      <td>YES</td>\n",
              "      <td>NO</td>\n",
              "    </tr>\n",
              "    <tr>\n",
              "      <th>2</th>\n",
              "      <td>51</td>\n",
              "      <td>FEMALE</td>\n",
              "      <td>INNER_CITY</td>\n",
              "      <td>16575.4</td>\n",
              "      <td>YES</td>\n",
              "      <td>0</td>\n",
              "      <td>YES</td>\n",
              "      <td>YES</td>\n",
              "      <td>YES</td>\n",
              "      <td>NO</td>\n",
              "      <td>NO</td>\n",
              "    </tr>\n",
              "    <tr>\n",
              "      <th>3</th>\n",
              "      <td>23</td>\n",
              "      <td>FEMALE</td>\n",
              "      <td>TOWN</td>\n",
              "      <td>20375.4</td>\n",
              "      <td>YES</td>\n",
              "      <td>3</td>\n",
              "      <td>NO</td>\n",
              "      <td>NO</td>\n",
              "      <td>YES</td>\n",
              "      <td>NO</td>\n",
              "      <td>NO</td>\n",
              "    </tr>\n",
              "    <tr>\n",
              "      <th>4</th>\n",
              "      <td>57</td>\n",
              "      <td>FEMALE</td>\n",
              "      <td>RURAL</td>\n",
              "      <td>50576.3</td>\n",
              "      <td>YES</td>\n",
              "      <td>0</td>\n",
              "      <td>NO</td>\n",
              "      <td>YES</td>\n",
              "      <td>NO</td>\n",
              "      <td>NO</td>\n",
              "      <td>NO</td>\n",
              "    </tr>\n",
              "  </tbody>\n",
              "</table>\n",
              "</div>\n",
              "    <div class=\"colab-df-buttons\">\n",
              "\n",
              "  <div class=\"colab-df-container\">\n",
              "    <button class=\"colab-df-convert\" onclick=\"convertToInteractive('df-def891e5-cf5b-455c-ae42-94feb67a115d')\"\n",
              "            title=\"Convert this dataframe to an interactive table.\"\n",
              "            style=\"display:none;\">\n",
              "\n",
              "  <svg xmlns=\"http://www.w3.org/2000/svg\" height=\"24px\" viewBox=\"0 -960 960 960\">\n",
              "    <path d=\"M120-120v-720h720v720H120Zm60-500h600v-160H180v160Zm220 220h160v-160H400v160Zm0 220h160v-160H400v160ZM180-400h160v-160H180v160Zm440 0h160v-160H620v160ZM180-180h160v-160H180v160Zm440 0h160v-160H620v160Z\"/>\n",
              "  </svg>\n",
              "    </button>\n",
              "\n",
              "  <style>\n",
              "    .colab-df-container {\n",
              "      display:flex;\n",
              "      gap: 12px;\n",
              "    }\n",
              "\n",
              "    .colab-df-convert {\n",
              "      background-color: #E8F0FE;\n",
              "      border: none;\n",
              "      border-radius: 50%;\n",
              "      cursor: pointer;\n",
              "      display: none;\n",
              "      fill: #1967D2;\n",
              "      height: 32px;\n",
              "      padding: 0 0 0 0;\n",
              "      width: 32px;\n",
              "    }\n",
              "\n",
              "    .colab-df-convert:hover {\n",
              "      background-color: #E2EBFA;\n",
              "      box-shadow: 0px 1px 2px rgba(60, 64, 67, 0.3), 0px 1px 3px 1px rgba(60, 64, 67, 0.15);\n",
              "      fill: #174EA6;\n",
              "    }\n",
              "\n",
              "    .colab-df-buttons div {\n",
              "      margin-bottom: 4px;\n",
              "    }\n",
              "\n",
              "    [theme=dark] .colab-df-convert {\n",
              "      background-color: #3B4455;\n",
              "      fill: #D2E3FC;\n",
              "    }\n",
              "\n",
              "    [theme=dark] .colab-df-convert:hover {\n",
              "      background-color: #434B5C;\n",
              "      box-shadow: 0px 1px 3px 1px rgba(0, 0, 0, 0.15);\n",
              "      filter: drop-shadow(0px 1px 2px rgba(0, 0, 0, 0.3));\n",
              "      fill: #FFFFFF;\n",
              "    }\n",
              "  </style>\n",
              "\n",
              "    <script>\n",
              "      const buttonEl =\n",
              "        document.querySelector('#df-def891e5-cf5b-455c-ae42-94feb67a115d button.colab-df-convert');\n",
              "      buttonEl.style.display =\n",
              "        google.colab.kernel.accessAllowed ? 'block' : 'none';\n",
              "\n",
              "      async function convertToInteractive(key) {\n",
              "        const element = document.querySelector('#df-def891e5-cf5b-455c-ae42-94feb67a115d');\n",
              "        const dataTable =\n",
              "          await google.colab.kernel.invokeFunction('convertToInteractive',\n",
              "                                                    [key], {});\n",
              "        if (!dataTable) return;\n",
              "\n",
              "        const docLinkHtml = 'Like what you see? Visit the ' +\n",
              "          '<a target=\"_blank\" href=https://colab.research.google.com/notebooks/data_table.ipynb>data table notebook</a>'\n",
              "          + ' to learn more about interactive tables.';\n",
              "        element.innerHTML = '';\n",
              "        dataTable['output_type'] = 'display_data';\n",
              "        await google.colab.output.renderOutput(dataTable, element);\n",
              "        const docLink = document.createElement('div');\n",
              "        docLink.innerHTML = docLinkHtml;\n",
              "        element.appendChild(docLink);\n",
              "      }\n",
              "    </script>\n",
              "  </div>\n",
              "\n",
              "\n",
              "<div id=\"df-a1b69422-92a1-4e72-b4ab-7e089497e9ba\">\n",
              "  <button class=\"colab-df-quickchart\" onclick=\"quickchart('df-a1b69422-92a1-4e72-b4ab-7e089497e9ba')\"\n",
              "            title=\"Suggest charts\"\n",
              "            style=\"display:none;\">\n",
              "\n",
              "<svg xmlns=\"http://www.w3.org/2000/svg\" height=\"24px\"viewBox=\"0 0 24 24\"\n",
              "     width=\"24px\">\n",
              "    <g>\n",
              "        <path d=\"M19 3H5c-1.1 0-2 .9-2 2v14c0 1.1.9 2 2 2h14c1.1 0 2-.9 2-2V5c0-1.1-.9-2-2-2zM9 17H7v-7h2v7zm4 0h-2V7h2v10zm4 0h-2v-4h2v4z\"/>\n",
              "    </g>\n",
              "</svg>\n",
              "  </button>\n",
              "\n",
              "<style>\n",
              "  .colab-df-quickchart {\n",
              "      --bg-color: #E8F0FE;\n",
              "      --fill-color: #1967D2;\n",
              "      --hover-bg-color: #E2EBFA;\n",
              "      --hover-fill-color: #174EA6;\n",
              "      --disabled-fill-color: #AAA;\n",
              "      --disabled-bg-color: #DDD;\n",
              "  }\n",
              "\n",
              "  [theme=dark] .colab-df-quickchart {\n",
              "      --bg-color: #3B4455;\n",
              "      --fill-color: #D2E3FC;\n",
              "      --hover-bg-color: #434B5C;\n",
              "      --hover-fill-color: #FFFFFF;\n",
              "      --disabled-bg-color: #3B4455;\n",
              "      --disabled-fill-color: #666;\n",
              "  }\n",
              "\n",
              "  .colab-df-quickchart {\n",
              "    background-color: var(--bg-color);\n",
              "    border: none;\n",
              "    border-radius: 50%;\n",
              "    cursor: pointer;\n",
              "    display: none;\n",
              "    fill: var(--fill-color);\n",
              "    height: 32px;\n",
              "    padding: 0;\n",
              "    width: 32px;\n",
              "  }\n",
              "\n",
              "  .colab-df-quickchart:hover {\n",
              "    background-color: var(--hover-bg-color);\n",
              "    box-shadow: 0 1px 2px rgba(60, 64, 67, 0.3), 0 1px 3px 1px rgba(60, 64, 67, 0.15);\n",
              "    fill: var(--button-hover-fill-color);\n",
              "  }\n",
              "\n",
              "  .colab-df-quickchart-complete:disabled,\n",
              "  .colab-df-quickchart-complete:disabled:hover {\n",
              "    background-color: var(--disabled-bg-color);\n",
              "    fill: var(--disabled-fill-color);\n",
              "    box-shadow: none;\n",
              "  }\n",
              "\n",
              "  .colab-df-spinner {\n",
              "    border: 2px solid var(--fill-color);\n",
              "    border-color: transparent;\n",
              "    border-bottom-color: var(--fill-color);\n",
              "    animation:\n",
              "      spin 1s steps(1) infinite;\n",
              "  }\n",
              "\n",
              "  @keyframes spin {\n",
              "    0% {\n",
              "      border-color: transparent;\n",
              "      border-bottom-color: var(--fill-color);\n",
              "      border-left-color: var(--fill-color);\n",
              "    }\n",
              "    20% {\n",
              "      border-color: transparent;\n",
              "      border-left-color: var(--fill-color);\n",
              "      border-top-color: var(--fill-color);\n",
              "    }\n",
              "    30% {\n",
              "      border-color: transparent;\n",
              "      border-left-color: var(--fill-color);\n",
              "      border-top-color: var(--fill-color);\n",
              "      border-right-color: var(--fill-color);\n",
              "    }\n",
              "    40% {\n",
              "      border-color: transparent;\n",
              "      border-right-color: var(--fill-color);\n",
              "      border-top-color: var(--fill-color);\n",
              "    }\n",
              "    60% {\n",
              "      border-color: transparent;\n",
              "      border-right-color: var(--fill-color);\n",
              "    }\n",
              "    80% {\n",
              "      border-color: transparent;\n",
              "      border-right-color: var(--fill-color);\n",
              "      border-bottom-color: var(--fill-color);\n",
              "    }\n",
              "    90% {\n",
              "      border-color: transparent;\n",
              "      border-bottom-color: var(--fill-color);\n",
              "    }\n",
              "  }\n",
              "</style>\n",
              "\n",
              "  <script>\n",
              "    async function quickchart(key) {\n",
              "      const quickchartButtonEl =\n",
              "        document.querySelector('#' + key + ' button');\n",
              "      quickchartButtonEl.disabled = true;  // To prevent multiple clicks.\n",
              "      quickchartButtonEl.classList.add('colab-df-spinner');\n",
              "      try {\n",
              "        const charts = await google.colab.kernel.invokeFunction(\n",
              "            'suggestCharts', [key], {});\n",
              "      } catch (error) {\n",
              "        console.error('Error during call to suggestCharts:', error);\n",
              "      }\n",
              "      quickchartButtonEl.classList.remove('colab-df-spinner');\n",
              "      quickchartButtonEl.classList.add('colab-df-quickchart-complete');\n",
              "    }\n",
              "    (() => {\n",
              "      let quickchartButtonEl =\n",
              "        document.querySelector('#df-a1b69422-92a1-4e72-b4ab-7e089497e9ba button');\n",
              "      quickchartButtonEl.style.display =\n",
              "        google.colab.kernel.accessAllowed ? 'block' : 'none';\n",
              "    })();\n",
              "  </script>\n",
              "</div>\n",
              "\n",
              "    </div>\n",
              "  </div>\n"
            ],
            "application/vnd.google.colaboratory.intrinsic+json": {
              "type": "dataframe",
              "variable_name": "arquivo",
              "summary": "{\n  \"name\": \"arquivo\",\n  \"rows\": 600,\n  \"fields\": [\n    {\n      \"column\": \"age\",\n      \"properties\": {\n        \"dtype\": \"number\",\n        \"std\": 14,\n        \"min\": 18,\n        \"max\": 67,\n        \"num_unique_values\": 50,\n        \"samples\": [\n          38,\n          21,\n          32\n        ],\n        \"semantic_type\": \"\",\n        \"description\": \"\"\n      }\n    },\n    {\n      \"column\": \"sex\",\n      \"properties\": {\n        \"dtype\": \"category\",\n        \"num_unique_values\": 2,\n        \"samples\": [\n          \"MALE\",\n          \"FEMALE\"\n        ],\n        \"semantic_type\": \"\",\n        \"description\": \"\"\n      }\n    },\n    {\n      \"column\": \"region\",\n      \"properties\": {\n        \"dtype\": \"category\",\n        \"num_unique_values\": 4,\n        \"samples\": [\n          \"TOWN\",\n          \"SUBURBAN\"\n        ],\n        \"semantic_type\": \"\",\n        \"description\": \"\"\n      }\n    },\n    {\n      \"column\": \"income\",\n      \"properties\": {\n        \"dtype\": \"number\",\n        \"std\": 12899.468245630569,\n        \"min\": 5014.21,\n        \"max\": 63130.1,\n        \"num_unique_values\": 599,\n        \"samples\": [\n          37330.5,\n          48950.9\n        ],\n        \"semantic_type\": \"\",\n        \"description\": \"\"\n      }\n    },\n    {\n      \"column\": \"married\",\n      \"properties\": {\n        \"dtype\": \"category\",\n        \"num_unique_values\": 2,\n        \"samples\": [\n          \"YES\",\n          \"NO\"\n        ],\n        \"semantic_type\": \"\",\n        \"description\": \"\"\n      }\n    },\n    {\n      \"column\": \"children\",\n      \"properties\": {\n        \"dtype\": \"number\",\n        \"std\": 1,\n        \"min\": 0,\n        \"max\": 3,\n        \"num_unique_values\": 4,\n        \"samples\": [\n          3,\n          2\n        ],\n        \"semantic_type\": \"\",\n        \"description\": \"\"\n      }\n    },\n    {\n      \"column\": \"car\",\n      \"properties\": {\n        \"dtype\": \"category\",\n        \"num_unique_values\": 2,\n        \"samples\": [\n          \"YES\",\n          \"NO\"\n        ],\n        \"semantic_type\": \"\",\n        \"description\": \"\"\n      }\n    },\n    {\n      \"column\": \"save_act\",\n      \"properties\": {\n        \"dtype\": \"category\",\n        \"num_unique_values\": 2,\n        \"samples\": [\n          \"YES\",\n          \"NO\"\n        ],\n        \"semantic_type\": \"\",\n        \"description\": \"\"\n      }\n    },\n    {\n      \"column\": \"current_act\",\n      \"properties\": {\n        \"dtype\": \"category\",\n        \"num_unique_values\": 2,\n        \"samples\": [\n          \"YES\",\n          \"NO\"\n        ],\n        \"semantic_type\": \"\",\n        \"description\": \"\"\n      }\n    },\n    {\n      \"column\": \"mortgage\",\n      \"properties\": {\n        \"dtype\": \"category\",\n        \"num_unique_values\": 2,\n        \"samples\": [\n          \"YES\",\n          \"NO\"\n        ],\n        \"semantic_type\": \"\",\n        \"description\": \"\"\n      }\n    },\n    {\n      \"column\": \"pep\",\n      \"properties\": {\n        \"dtype\": \"category\",\n        \"num_unique_values\": 2,\n        \"samples\": [\n          \"NO\",\n          \"YES\"\n        ],\n        \"semantic_type\": \"\",\n        \"description\": \"\"\n      }\n    }\n  ]\n}"
            }
          },
          "metadata": {},
          "execution_count": 6
        }
      ]
    },
    {
      "cell_type": "code",
      "source": [
        "print(arquivo['pep'].value_counts())"
      ],
      "metadata": {
        "colab": {
          "base_uri": "https://localhost:8080/"
        },
        "id": "5QHI99xeUiOf",
        "outputId": "ee132758-0867-449e-9342-2767372e9795"
      },
      "execution_count": null,
      "outputs": [
        {
          "output_type": "stream",
          "name": "stdout",
          "text": [
            "pep\n",
            "NO     326\n",
            "YES    274\n",
            "Name: count, dtype: int64\n"
          ]
        }
      ]
    },
    {
      "cell_type": "code",
      "source": [
        "if 'sex' in arquivo.columns:\n",
        "    print(\"Column 'sex' exists in the DataFrame.\")\n",
        "\n",
        "    arquivo['sex'] = arquivo['sex'].replace('MALE', 1)\n",
        "    arquivo['sex'] = arquivo['sex'].replace('FEMALE', 0)\n",
        "else:\n",
        "    print(\"Column 'sex' does not exist in the DataFrame.\")\n",
        "\n",
        "print(arquivo.head())"
      ],
      "metadata": {
        "colab": {
          "base_uri": "https://localhost:8080/"
        },
        "id": "mHkgAHjvNyL1",
        "outputId": "d471e0a0-d57c-4285-f542-92f07915cb91"
      },
      "execution_count": null,
      "outputs": [
        {
          "output_type": "stream",
          "name": "stdout",
          "text": [
            "Column 'sex' exists in the DataFrame.\n",
            "   age  sex      region   income married  children  car save_act current_act  \\\n",
            "0   48    0  INNER_CITY  17546.0      NO         1   NO       NO          NO   \n",
            "1   40    1        TOWN  30085.1     YES         3  YES       NO         YES   \n",
            "2   51    0  INNER_CITY  16575.4     YES         0  YES      YES         YES   \n",
            "3   23    0        TOWN  20375.4     YES         3   NO       NO         YES   \n",
            "4   57    0       RURAL  50576.3     YES         0   NO      YES          NO   \n",
            "\n",
            "  mortgage  pep  \n",
            "0       NO  YES  \n",
            "1      YES   NO  \n",
            "2       NO   NO  \n",
            "3       NO   NO  \n",
            "4       NO   NO  \n"
          ]
        }
      ]
    },
    {
      "cell_type": "code",
      "source": [
        "if 'married' in arquivo.columns:\n",
        "    print(\"Column 'pep' exists in the DataFrame.\")\n",
        "    arquivo['married'] = arquivo['married'].replace('YES', 1)\n",
        "    arquivo['married'] = arquivo['married'].replace('NO', 0)\n",
        "else:\n",
        "    print(\"Column 'married' does not exist in the DataFrame.\")\n",
        "\n",
        "print(arquivo.head())"
      ],
      "metadata": {
        "colab": {
          "base_uri": "https://localhost:8080/"
        },
        "id": "DUtFnb8H_8tZ",
        "outputId": "8c1044d1-faf7-4ea1-8e83-e57d85d8d139"
      },
      "execution_count": null,
      "outputs": [
        {
          "output_type": "stream",
          "name": "stdout",
          "text": [
            "Column 'pep' exists in the DataFrame.\n",
            "   age  sex      region   income  married  children  car save_act current_act  \\\n",
            "0   48    0  INNER_CITY  17546.0        0         1   NO       NO          NO   \n",
            "1   40    1        TOWN  30085.1        1         3  YES       NO         YES   \n",
            "2   51    0  INNER_CITY  16575.4        1         0  YES      YES         YES   \n",
            "3   23    0        TOWN  20375.4        1         3   NO       NO         YES   \n",
            "4   57    0       RURAL  50576.3        1         0   NO      YES          NO   \n",
            "\n",
            "  mortgage  pep  \n",
            "0       NO  YES  \n",
            "1      YES   NO  \n",
            "2       NO   NO  \n",
            "3       NO   NO  \n",
            "4       NO   NO  \n"
          ]
        }
      ]
    },
    {
      "cell_type": "code",
      "source": [
        "if 'car' in arquivo.columns:\n",
        "    print(\"Column 'pep' exists in the DataFrame.\")\n",
        "\n",
        "    arquivo['car'] = arquivo['car'].replace('YES', 1)\n",
        "    arquivo['car'] = arquivo['car'].replace('NO', 0)\n",
        "\n",
        "else:\n",
        "    print(\"Column 'car' does not exist in the DataFrame.\")\n",
        "\n",
        "print(arquivo.head())"
      ],
      "metadata": {
        "colab": {
          "base_uri": "https://localhost:8080/"
        },
        "id": "N6TNriwYTa_f",
        "outputId": "351a92f0-fdfd-44bb-8c55-ee9d7bf9c6a8"
      },
      "execution_count": null,
      "outputs": [
        {
          "output_type": "stream",
          "name": "stdout",
          "text": [
            "Column 'pep' exists in the DataFrame.\n",
            "   age  sex      region   income  married  children  car save_act current_act  \\\n",
            "0   48    0  INNER_CITY  17546.0        0         1    0       NO          NO   \n",
            "1   40    1        TOWN  30085.1        1         3    1       NO         YES   \n",
            "2   51    0  INNER_CITY  16575.4        1         0    1      YES         YES   \n",
            "3   23    0        TOWN  20375.4        1         3    0       NO         YES   \n",
            "4   57    0       RURAL  50576.3        1         0    0      YES          NO   \n",
            "\n",
            "  mortgage  pep  \n",
            "0       NO  YES  \n",
            "1      YES   NO  \n",
            "2       NO   NO  \n",
            "3       NO   NO  \n",
            "4       NO   NO  \n"
          ]
        }
      ]
    },
    {
      "cell_type": "code",
      "source": [
        "if 'save_act' in arquivo.columns:\n",
        "    print(\"Column 'save_act' exists in the DataFrame.\")\n",
        "\n",
        "    arquivo['save_act'] = arquivo['save_act'].replace('YES', 1)\n",
        "    arquivo['save_act'] = arquivo['save_act'].replace('NO', 0)\n",
        "\n",
        "else:\n",
        "    print(\"Column 'save_act' does not exist in the DataFrame.\")\n",
        "\n",
        "print(arquivo.head())"
      ],
      "metadata": {
        "colab": {
          "base_uri": "https://localhost:8080/"
        },
        "id": "ilje34XoTe0Z",
        "outputId": "83b4463d-5316-4710-8aac-26706f640c6a"
      },
      "execution_count": null,
      "outputs": [
        {
          "output_type": "stream",
          "name": "stdout",
          "text": [
            "Column 'save_act' exists in the DataFrame.\n",
            "   age  sex      region   income  married  children  car  save_act  \\\n",
            "0   48    0  INNER_CITY  17546.0        0         1    0         0   \n",
            "1   40    1        TOWN  30085.1        1         3    1         0   \n",
            "2   51    0  INNER_CITY  16575.4        1         0    1         1   \n",
            "3   23    0        TOWN  20375.4        1         3    0         0   \n",
            "4   57    0       RURAL  50576.3        1         0    0         1   \n",
            "\n",
            "  current_act mortgage  pep  \n",
            "0          NO       NO  YES  \n",
            "1         YES      YES   NO  \n",
            "2         YES       NO   NO  \n",
            "3         YES       NO   NO  \n",
            "4          NO       NO   NO  \n"
          ]
        }
      ]
    },
    {
      "cell_type": "code",
      "source": [
        "if 'current_act' in arquivo.columns:\n",
        "    print(\"Column 'current_act' exists in the DataFrame.\")\n",
        "\n",
        "    arquivo['current_act'] = arquivo['current_act'].replace('YES', 1)\n",
        "    arquivo['current_act'] = arquivo['current_act'].replace('NO', 0)\n",
        "\n",
        "else:\n",
        "    print(\"Column 'current_act' does not exist in the DataFrame.\")\n",
        "\n",
        "print(arquivo.head())"
      ],
      "metadata": {
        "colab": {
          "base_uri": "https://localhost:8080/"
        },
        "id": "9z6y8Mm0Tn0Z",
        "outputId": "603e9c83-e53e-4f66-f1fb-62273c9ead80"
      },
      "execution_count": null,
      "outputs": [
        {
          "output_type": "stream",
          "name": "stdout",
          "text": [
            "Column 'current_act' exists in the DataFrame.\n",
            "   age  sex      region   income  married  children  car  save_act  \\\n",
            "0   48    0  INNER_CITY  17546.0        0         1    0         0   \n",
            "1   40    1        TOWN  30085.1        1         3    1         0   \n",
            "2   51    0  INNER_CITY  16575.4        1         0    1         1   \n",
            "3   23    0        TOWN  20375.4        1         3    0         0   \n",
            "4   57    0       RURAL  50576.3        1         0    0         1   \n",
            "\n",
            "   current_act mortgage  pep  \n",
            "0            0       NO  YES  \n",
            "1            1      YES   NO  \n",
            "2            1       NO   NO  \n",
            "3            1       NO   NO  \n",
            "4            0       NO   NO  \n"
          ]
        }
      ]
    },
    {
      "cell_type": "code",
      "source": [
        "if 'mortgage' in arquivo.columns:\n",
        "    print(\"Column 'mortgage' exists in the DataFrame.\")\n",
        "\n",
        "    arquivo['mortgage'] = arquivo['mortgage'].replace('YES', 1)\n",
        "    arquivo['mortgage'] = arquivo['mortgage'].replace('NO', 0)\n",
        "\n",
        "else:\n",
        "    print(\"Column 'mortgage' does not exist in the DataFrame.\")\n",
        "\n",
        "print(arquivo.head())"
      ],
      "metadata": {
        "colab": {
          "base_uri": "https://localhost:8080/"
        },
        "id": "W4Juhw25ToIf",
        "outputId": "90812485-809b-4196-f6b6-2df9c8b7e2ad"
      },
      "execution_count": null,
      "outputs": [
        {
          "output_type": "stream",
          "name": "stdout",
          "text": [
            "Column 'mortgage' exists in the DataFrame.\n",
            "   age  sex      region   income  married  children  car  save_act  \\\n",
            "0   48    0  INNER_CITY  17546.0        0         1    0         0   \n",
            "1   40    1        TOWN  30085.1        1         3    1         0   \n",
            "2   51    0  INNER_CITY  16575.4        1         0    1         1   \n",
            "3   23    0        TOWN  20375.4        1         3    0         0   \n",
            "4   57    0       RURAL  50576.3        1         0    0         1   \n",
            "\n",
            "   current_act  mortgage  pep  \n",
            "0            0         0  YES  \n",
            "1            1         1   NO  \n",
            "2            1         0   NO  \n",
            "3            1         0   NO  \n",
            "4            0         0   NO  \n"
          ]
        }
      ]
    },
    {
      "cell_type": "code",
      "source": [
        "if 'pep' in arquivo.columns:\n",
        "    print(\"Column 'pep' exists in the DataFrame.\")\n",
        "\n",
        "    arquivo['pep'] = arquivo['pep'].replace('YES', 1)\n",
        "    arquivo['pep'] = arquivo['pep'].replace('NO', 0)\n",
        "else:\n",
        "    print(\"Column 'pep' does not exist in the DataFrame.\")\n",
        "\n",
        "print(arquivo.head())"
      ],
      "metadata": {
        "colab": {
          "base_uri": "https://localhost:8080/"
        },
        "id": "mHorlfwHT45X",
        "outputId": "aa47300d-39ea-40d8-e552-ab9bafb821b9"
      },
      "execution_count": null,
      "outputs": [
        {
          "output_type": "stream",
          "name": "stdout",
          "text": [
            "Column 'pep' exists in the DataFrame.\n",
            "   age  sex      region   income  married  children  car  save_act  \\\n",
            "0   48    0  INNER_CITY  17546.0        0         1    0         0   \n",
            "1   40    1        TOWN  30085.1        1         3    1         0   \n",
            "2   51    0  INNER_CITY  16575.4        1         0    1         1   \n",
            "3   23    0        TOWN  20375.4        1         3    0         0   \n",
            "4   57    0       RURAL  50576.3        1         0    0         1   \n",
            "\n",
            "   current_act  mortgage  pep  \n",
            "0            0         0    1  \n",
            "1            1         1    0  \n",
            "2            1         0    0  \n",
            "3            1         0    0  \n",
            "4            0         0    0  \n"
          ]
        }
      ]
    },
    {
      "cell_type": "code",
      "source": [
        "arquivo = pd.get_dummies(arquivo, columns=['region'])"
      ],
      "metadata": {
        "id": "8Wa1vmtYs8Yu"
      },
      "execution_count": null,
      "outputs": []
    },
    {
      "cell_type": "code",
      "source": [
        "print(arquivo.head())"
      ],
      "metadata": {
        "colab": {
          "base_uri": "https://localhost:8080/"
        },
        "id": "49iho5bOtuJ5",
        "outputId": "0cdeda7a-22ad-44f8-9753-4b3302ba0485"
      },
      "execution_count": null,
      "outputs": [
        {
          "output_type": "stream",
          "name": "stdout",
          "text": [
            "   age  sex   income  married  children  car  save_act  current_act  mortgage  \\\n",
            "0   48    0  17546.0        0         1    0         0            0         0   \n",
            "1   40    1  30085.1        1         3    1         0            1         1   \n",
            "2   51    0  16575.4        1         0    1         1            1         0   \n",
            "3   23    0  20375.4        1         3    0         0            1         0   \n",
            "4   57    0  50576.3        1         0    0         1            0         0   \n",
            "\n",
            "   pep  region_INNER_CITY  region_RURAL  region_SUBURBAN  region_TOWN  \n",
            "0    1               True         False            False        False  \n",
            "1    0              False         False            False         True  \n",
            "2    0               True         False            False        False  \n",
            "3    0              False         False            False         True  \n",
            "4    0              False          True            False        False  \n"
          ]
        }
      ]
    },
    {
      "cell_type": "code",
      "source": [
        "if 'sex_MALE' in arquivo.columns:\n",
        "    print(\"Column 'sex_MALE' exists in the DataFrame.\")\n",
        "\n",
        "    arquivo['sex_MALE'] = arquivo['sex_MALE'].replace(True, 1)\n",
        "    arquivo['sex_MALE'] = arquivo['sex_MALE'].replace(False, 0)\n",
        "else:\n",
        "    print(\"Column 'sex_MALE' does not exist in the DataFrame.\")\n",
        "\n",
        "print(arquivo.head())"
      ],
      "metadata": {
        "colab": {
          "base_uri": "https://localhost:8080/"
        },
        "id": "XCwMHCiotXqk",
        "outputId": "8912bbc4-6873-4500-d341-6973078bff26"
      },
      "execution_count": null,
      "outputs": [
        {
          "output_type": "stream",
          "name": "stdout",
          "text": [
            "Column 'sex_MALE' does not exist in the DataFrame.\n",
            "   age  sex   income  married  children  car  save_act  current_act  mortgage  \\\n",
            "0   48    0  17546.0        0         1    0         0            0         0   \n",
            "1   40    1  30085.1        1         3    1         0            1         1   \n",
            "2   51    0  16575.4        1         0    1         1            1         0   \n",
            "3   23    0  20375.4        1         3    0         0            1         0   \n",
            "4   57    0  50576.3        1         0    0         1            0         0   \n",
            "\n",
            "   pep  region_INNER_CITY  region_RURAL  region_SUBURBAN  region_TOWN  \n",
            "0    1               True         False            False        False  \n",
            "1    0              False         False            False         True  \n",
            "2    0               True         False            False        False  \n",
            "3    0              False         False            False         True  \n",
            "4    0              False          True            False        False  \n"
          ]
        }
      ]
    },
    {
      "cell_type": "code",
      "source": [
        "if 'sex_FEMALE' in arquivo.columns:\n",
        "    print(\"Column 'sex_FEMALE' exists in the DataFrame.\")\n",
        "\n",
        "    arquivo['sex_FEMALE'] = arquivo['sex_FEMALE'].replace(True, 1)\n",
        "    arquivo['sex_FEMALE'] = arquivo['sex_FEMALE'].replace(False, 0)\n",
        "else:\n",
        "    print(\"Column 'sex_FEMALE' does not exist in the DataFrame.\")\n",
        "\n",
        "print(arquivo.head())"
      ],
      "metadata": {
        "colab": {
          "base_uri": "https://localhost:8080/"
        },
        "id": "fVn-_pAvt7_h",
        "outputId": "96a384cb-6ed0-4ccf-99db-082a0bffb9e3"
      },
      "execution_count": null,
      "outputs": [
        {
          "output_type": "stream",
          "name": "stdout",
          "text": [
            "Column 'sex_FEMALE' does not exist in the DataFrame.\n",
            "   age  sex   income  married  children  car  save_act  current_act  mortgage  \\\n",
            "0   48    0  17546.0        0         1    0         0            0         0   \n",
            "1   40    1  30085.1        1         3    1         0            1         1   \n",
            "2   51    0  16575.4        1         0    1         1            1         0   \n",
            "3   23    0  20375.4        1         3    0         0            1         0   \n",
            "4   57    0  50576.3        1         0    0         1            0         0   \n",
            "\n",
            "   pep  region_INNER_CITY  region_RURAL  region_SUBURBAN  region_TOWN  \n",
            "0    1               True         False            False        False  \n",
            "1    0              False         False            False         True  \n",
            "2    0               True         False            False        False  \n",
            "3    0              False         False            False         True  \n",
            "4    0              False          True            False        False  \n"
          ]
        }
      ]
    },
    {
      "cell_type": "code",
      "source": [
        "if 'region_INNER_CITY' in arquivo.columns:\n",
        "    print(\"Column 'region_INNER_CITY' exists in the DataFrame.\")\n",
        "\n",
        "    arquivo['region_INNER_CITY'] = arquivo['region_INNER_CITY'].replace(True, 1)\n",
        "    arquivo['region_INNER_CITY'] = arquivo['region_INNER_CITY'].replace(False, 0)\n",
        "else:\n",
        "    print(\"Column 'region_INNER_CITY' does not exist in the DataFrame.\")\n",
        "\n",
        "print(arquivo.head())"
      ],
      "metadata": {
        "colab": {
          "base_uri": "https://localhost:8080/"
        },
        "id": "ytAKmB42uHjC",
        "outputId": "0ad86328-2c9b-49d0-beb4-28c096046570"
      },
      "execution_count": null,
      "outputs": [
        {
          "output_type": "stream",
          "name": "stdout",
          "text": [
            "Column 'region_INNER_CITY' exists in the DataFrame.\n",
            "   age  sex   income  married  children  car  save_act  current_act  mortgage  \\\n",
            "0   48    0  17546.0        0         1    0         0            0         0   \n",
            "1   40    1  30085.1        1         3    1         0            1         1   \n",
            "2   51    0  16575.4        1         0    1         1            1         0   \n",
            "3   23    0  20375.4        1         3    0         0            1         0   \n",
            "4   57    0  50576.3        1         0    0         1            0         0   \n",
            "\n",
            "   pep  region_INNER_CITY  region_RURAL  region_SUBURBAN  region_TOWN  \n",
            "0    1                  1         False            False        False  \n",
            "1    0                  0         False            False         True  \n",
            "2    0                  1         False            False        False  \n",
            "3    0                  0         False            False         True  \n",
            "4    0                  0          True            False        False  \n"
          ]
        }
      ]
    },
    {
      "cell_type": "code",
      "source": [
        "if 'region_RURAL' in arquivo.columns:\n",
        "    print(\"Column 'region_RURAL' exists in the DataFrame.\")\n",
        "\n",
        "    arquivo['region_RURAL'] = arquivo['region_RURAL'].replace(True, 1)\n",
        "    arquivo['region_RURAL'] = arquivo['region_RURAL'].replace(False, 0)\n",
        "else:\n",
        "    print(\"Column 'region_RURAL' does not exist in the DataFrame.\")\n",
        "\n",
        "print(arquivo.head())"
      ],
      "metadata": {
        "colab": {
          "base_uri": "https://localhost:8080/"
        },
        "id": "yKTiqI2GuHpY",
        "outputId": "824c93f1-bc0a-4d39-e93f-7e2c18df1bce"
      },
      "execution_count": null,
      "outputs": [
        {
          "output_type": "stream",
          "name": "stdout",
          "text": [
            "Column 'region_RURAL' exists in the DataFrame.\n",
            "   age  sex   income  married  children  car  save_act  current_act  mortgage  \\\n",
            "0   48    0  17546.0        0         1    0         0            0         0   \n",
            "1   40    1  30085.1        1         3    1         0            1         1   \n",
            "2   51    0  16575.4        1         0    1         1            1         0   \n",
            "3   23    0  20375.4        1         3    0         0            1         0   \n",
            "4   57    0  50576.3        1         0    0         1            0         0   \n",
            "\n",
            "   pep  region_INNER_CITY  region_RURAL  region_SUBURBAN  region_TOWN  \n",
            "0    1                  1             0            False        False  \n",
            "1    0                  0             0            False         True  \n",
            "2    0                  1             0            False        False  \n",
            "3    0                  0             0            False         True  \n",
            "4    0                  0             1            False        False  \n"
          ]
        }
      ]
    },
    {
      "cell_type": "code",
      "source": [
        "if 'region_SUBURBAN' in arquivo.columns:\n",
        "    print(\"Column 'region_SUBURBAN' exists in the DataFrame.\")\n",
        "\n",
        "    arquivo['region_SUBURBAN'] = arquivo['region_SUBURBAN'].replace(True, 1)\n",
        "    arquivo['region_SUBURBAN'] = arquivo['region_SUBURBAN'].replace(False, 0)\n",
        "else:\n",
        "    print(\"Column 'region_SUBURBAN' does not exist in the DataFrame.\")\n",
        "\n",
        "print(arquivo.head())"
      ],
      "metadata": {
        "colab": {
          "base_uri": "https://localhost:8080/"
        },
        "id": "p-hAlZeIuHvw",
        "outputId": "b865f224-02f0-49da-ff24-b61dbeb8aba2"
      },
      "execution_count": null,
      "outputs": [
        {
          "output_type": "stream",
          "name": "stdout",
          "text": [
            "Column 'region_SUBURBAN' exists in the DataFrame.\n",
            "   age  sex   income  married  children  car  save_act  current_act  mortgage  \\\n",
            "0   48    0  17546.0        0         1    0         0            0         0   \n",
            "1   40    1  30085.1        1         3    1         0            1         1   \n",
            "2   51    0  16575.4        1         0    1         1            1         0   \n",
            "3   23    0  20375.4        1         3    0         0            1         0   \n",
            "4   57    0  50576.3        1         0    0         1            0         0   \n",
            "\n",
            "   pep  region_INNER_CITY  region_RURAL  region_SUBURBAN  region_TOWN  \n",
            "0    1                  1             0                0        False  \n",
            "1    0                  0             0                0         True  \n",
            "2    0                  1             0                0        False  \n",
            "3    0                  0             0                0         True  \n",
            "4    0                  0             1                0        False  \n"
          ]
        }
      ]
    },
    {
      "cell_type": "code",
      "source": [
        "if 'region_TOWN' in arquivo.columns:\n",
        "    print(\"Column 'region_TOWN' exists in the DataFrame.\")\n",
        "\n",
        "    arquivo['region_TOWN'] = arquivo['region_TOWN'].replace(True, 1)\n",
        "    arquivo['region_TOWN'] = arquivo['region_TOWN'].replace(False, 0)\n",
        "else:\n",
        "    print(\"Column 'region_TOWN' does not exist in the DataFrame.\")\n",
        "\n",
        "print(arquivo.head())"
      ],
      "metadata": {
        "colab": {
          "base_uri": "https://localhost:8080/"
        },
        "id": "OhgkBU-WuH1c",
        "outputId": "19534ec6-0727-4e15-9b24-f66515ede735"
      },
      "execution_count": null,
      "outputs": [
        {
          "output_type": "stream",
          "name": "stdout",
          "text": [
            "Column 'region_TOWN' exists in the DataFrame.\n",
            "   age  sex   income  married  children  car  save_act  current_act  mortgage  \\\n",
            "0   48    0  17546.0        0         1    0         0            0         0   \n",
            "1   40    1  30085.1        1         3    1         0            1         1   \n",
            "2   51    0  16575.4        1         0    1         1            1         0   \n",
            "3   23    0  20375.4        1         3    0         0            1         0   \n",
            "4   57    0  50576.3        1         0    0         1            0         0   \n",
            "\n",
            "   pep  region_INNER_CITY  region_RURAL  region_SUBURBAN  region_TOWN  \n",
            "0    1                  1             0                0            0  \n",
            "1    0                  0             0                0            1  \n",
            "2    0                  1             0                0            0  \n",
            "3    0                  0             0                0            1  \n",
            "4    0                  0             1                0            0  \n"
          ]
        }
      ]
    },
    {
      "cell_type": "code",
      "source": [
        "y = arquivo['pep']\n",
        "X = arquivo.drop('pep', axis=1)"
      ],
      "metadata": {
        "id": "4M4HtWmjVChd"
      },
      "execution_count": null,
      "outputs": []
    },
    {
      "cell_type": "code",
      "source": [
        "from sklearn.model_selection import train_test_split\n",
        "\n",
        "x_train, x_test, y_train, y_test = train_test_split(X, y, test_size=0.2, random_state=42)"
      ],
      "metadata": {
        "id": "8ZSyNKHcVPlX"
      },
      "execution_count": null,
      "outputs": []
    },
    {
      "cell_type": "code",
      "source": [
        "# Diferença entre Regressão e Classificação\n",
        "\n",
        "from sklearn.ensemble import ExtraTreesClassifier\n",
        "modelo = ExtraTreesClassifier()\n",
        "modelo.fit(x_train, y_train)"
      ],
      "metadata": {
        "colab": {
          "base_uri": "https://localhost:8080/",
          "height": 74
        },
        "id": "Bw52aJNnVZm-",
        "outputId": "2f2d4400-7567-4d18-9a49-77683f0a8d19"
      },
      "execution_count": null,
      "outputs": [
        {
          "output_type": "execute_result",
          "data": {
            "text/plain": [
              "ExtraTreesClassifier()"
            ],
            "text/html": [
              "<style>#sk-container-id-3 {color: black;}#sk-container-id-3 pre{padding: 0;}#sk-container-id-3 div.sk-toggleable {background-color: white;}#sk-container-id-3 label.sk-toggleable__label {cursor: pointer;display: block;width: 100%;margin-bottom: 0;padding: 0.3em;box-sizing: border-box;text-align: center;}#sk-container-id-3 label.sk-toggleable__label-arrow:before {content: \"▸\";float: left;margin-right: 0.25em;color: #696969;}#sk-container-id-3 label.sk-toggleable__label-arrow:hover:before {color: black;}#sk-container-id-3 div.sk-estimator:hover label.sk-toggleable__label-arrow:before {color: black;}#sk-container-id-3 div.sk-toggleable__content {max-height: 0;max-width: 0;overflow: hidden;text-align: left;background-color: #f0f8ff;}#sk-container-id-3 div.sk-toggleable__content pre {margin: 0.2em;color: black;border-radius: 0.25em;background-color: #f0f8ff;}#sk-container-id-3 input.sk-toggleable__control:checked~div.sk-toggleable__content {max-height: 200px;max-width: 100%;overflow: auto;}#sk-container-id-3 input.sk-toggleable__control:checked~label.sk-toggleable__label-arrow:before {content: \"▾\";}#sk-container-id-3 div.sk-estimator input.sk-toggleable__control:checked~label.sk-toggleable__label {background-color: #d4ebff;}#sk-container-id-3 div.sk-label input.sk-toggleable__control:checked~label.sk-toggleable__label {background-color: #d4ebff;}#sk-container-id-3 input.sk-hidden--visually {border: 0;clip: rect(1px 1px 1px 1px);clip: rect(1px, 1px, 1px, 1px);height: 1px;margin: -1px;overflow: hidden;padding: 0;position: absolute;width: 1px;}#sk-container-id-3 div.sk-estimator {font-family: monospace;background-color: #f0f8ff;border: 1px dotted black;border-radius: 0.25em;box-sizing: border-box;margin-bottom: 0.5em;}#sk-container-id-3 div.sk-estimator:hover {background-color: #d4ebff;}#sk-container-id-3 div.sk-parallel-item::after {content: \"\";width: 100%;border-bottom: 1px solid gray;flex-grow: 1;}#sk-container-id-3 div.sk-label:hover label.sk-toggleable__label {background-color: #d4ebff;}#sk-container-id-3 div.sk-serial::before {content: \"\";position: absolute;border-left: 1px solid gray;box-sizing: border-box;top: 0;bottom: 0;left: 50%;z-index: 0;}#sk-container-id-3 div.sk-serial {display: flex;flex-direction: column;align-items: center;background-color: white;padding-right: 0.2em;padding-left: 0.2em;position: relative;}#sk-container-id-3 div.sk-item {position: relative;z-index: 1;}#sk-container-id-3 div.sk-parallel {display: flex;align-items: stretch;justify-content: center;background-color: white;position: relative;}#sk-container-id-3 div.sk-item::before, #sk-container-id-3 div.sk-parallel-item::before {content: \"\";position: absolute;border-left: 1px solid gray;box-sizing: border-box;top: 0;bottom: 0;left: 50%;z-index: -1;}#sk-container-id-3 div.sk-parallel-item {display: flex;flex-direction: column;z-index: 1;position: relative;background-color: white;}#sk-container-id-3 div.sk-parallel-item:first-child::after {align-self: flex-end;width: 50%;}#sk-container-id-3 div.sk-parallel-item:last-child::after {align-self: flex-start;width: 50%;}#sk-container-id-3 div.sk-parallel-item:only-child::after {width: 0;}#sk-container-id-3 div.sk-dashed-wrapped {border: 1px dashed gray;margin: 0 0.4em 0.5em 0.4em;box-sizing: border-box;padding-bottom: 0.4em;background-color: white;}#sk-container-id-3 div.sk-label label {font-family: monospace;font-weight: bold;display: inline-block;line-height: 1.2em;}#sk-container-id-3 div.sk-label-container {text-align: center;}#sk-container-id-3 div.sk-container {/* jupyter's `normalize.less` sets `[hidden] { display: none; }` but bootstrap.min.css set `[hidden] { display: none !important; }` so we also need the `!important` here to be able to override the default hidden behavior on the sphinx rendered scikit-learn.org. See: https://github.com/scikit-learn/scikit-learn/issues/21755 */display: inline-block !important;position: relative;}#sk-container-id-3 div.sk-text-repr-fallback {display: none;}</style><div id=\"sk-container-id-3\" class=\"sk-top-container\"><div class=\"sk-text-repr-fallback\"><pre>ExtraTreesClassifier()</pre><b>In a Jupyter environment, please rerun this cell to show the HTML representation or trust the notebook. <br />On GitHub, the HTML representation is unable to render, please try loading this page with nbviewer.org.</b></div><div class=\"sk-container\" hidden><div class=\"sk-item\"><div class=\"sk-estimator sk-toggleable\"><input class=\"sk-toggleable__control sk-hidden--visually\" id=\"sk-estimator-id-3\" type=\"checkbox\" checked><label for=\"sk-estimator-id-3\" class=\"sk-toggleable__label sk-toggleable__label-arrow\">ExtraTreesClassifier</label><div class=\"sk-toggleable__content\"><pre>ExtraTreesClassifier()</pre></div></div></div></div></div>"
            ]
          },
          "metadata": {},
          "execution_count": 34
        }
      ]
    },
    {
      "cell_type": "code",
      "source": [
        "resultado = modelo.score(x_test, y_test)\n",
        "print (\"Acurácia:\", resultado)"
      ],
      "metadata": {
        "colab": {
          "base_uri": "https://localhost:8080/"
        },
        "id": "FpwvpWQLXEs6",
        "outputId": "f5c2952b-6b23-4b68-dd39-576ec2de256a"
      },
      "execution_count": null,
      "outputs": [
        {
          "output_type": "stream",
          "name": "stdout",
          "text": [
            "Acurácia: 0.8111111111111111\n"
          ]
        }
      ]
    },
    {
      "cell_type": "code",
      "source": [
        "import numpy as np\n",
        "from sklearn.metrics import precision_score, recall_score, f1_score"
      ],
      "metadata": {
        "id": "5uJaQ7lzwSot"
      },
      "execution_count": null,
      "outputs": []
    },
    {
      "source": [
        "y_pred = modelo.predict(x_test)\n",
        "y_pred_rounded = np.round(y_pred)\n",
        "\n",
        "precisao = precision_score(y_test, y_pred_rounded)\n",
        "recall = recall_score(y_test, y_pred_rounded)\n",
        "f1 = f1_score(y_test, y_pred_rounded)\n",
        "\n",
        "print(\"Precisão:\", precisao)\n",
        "print(\"Recall:\", recall)\n",
        "print(\"F1-score:\", f1)"
      ],
      "cell_type": "code",
      "metadata": {
        "colab": {
          "base_uri": "https://localhost:8080/"
        },
        "id": "EEs4MIhiwOFn",
        "outputId": "874ef99e-0000-4642-afaf-a3cea6abce05"
      },
      "execution_count": null,
      "outputs": [
        {
          "output_type": "stream",
          "name": "stdout",
          "text": [
            "Precisão: 0.8192771084337349\n",
            "Recall: 0.7816091954022989\n",
            "F1-score: 0.8\n"
          ]
        }
      ]
    },
    {
      "cell_type": "code",
      "source": [
        "from sklearn.metrics import confusion_matrix, classification_report\n",
        "\n",
        "\"\"\"\n",
        "Calculando e exibindo a matriz de confusão. A orientação padrão é a seguinte:\n",
        "[0,0]: Verdadeiros Negativos (VN) - Previsões corretamente identificadas como negativas.\n",
        "[0,1]: Falsos Positivos (FP) - Previsões incorretamente identificadas como positivas.\n",
        "[1,0]: Falsos Negativos (FN) - Previsões incorretamente identificadas como negativas.\n",
        "[1,1]: Verdadeiros Positivos (VP) - Previsões corretamente identificadas como positivas.\n",
        "\"\"\"\n",
        "\n",
        "conf_matrix = confusion_matrix(y_test, y_pred_rounded)\n",
        "print(\"Matriz de Confusão:\")\n",
        "print(conf_matrix)"
      ],
      "metadata": {
        "colab": {
          "base_uri": "https://localhost:8080/"
        },
        "id": "_ja79Iiywc8v",
        "outputId": "87445950-5327-4b5b-d1d9-2d4dd403396f"
      },
      "execution_count": null,
      "outputs": [
        {
          "output_type": "stream",
          "name": "stdout",
          "text": [
            "Matriz de Confusão:\n",
            "[[78 15]\n",
            " [19 68]]\n"
          ]
        }
      ]
    },
    {
      "cell_type": "code",
      "source": [
        "\n",
        "\"\"\"\n",
        "Calculando e exibindo as métricas de classificação.\n",
        "Se algumas classes têm muito mais amostras do que outras, isso pode influenciar o desempenho e confiabilidade do modelo.\n",
        "\n",
        "O \"support\" refere-se à quantidade de ocorrências da classe específica no conjunto de dados, sendo útil para verificar desbalanceamentos.\n",
        "A \"macro avg\" calcula a média aritmética das métricas (precisão, recall, F1-score) para cada classe, sem considerar o número de instâncias em cada classe (support).\n",
        "A \"weighted avg\" calcula a média ponderada das métricas para cada classe, considerando o número de instâncias em cada classe (support).\n",
        "\"\"\"\n",
        "print(\"Relatório de Classsificação:\")\n",
        "print(classification_report(y_test, y_pred_rounded))"
      ],
      "metadata": {
        "colab": {
          "base_uri": "https://localhost:8080/"
        },
        "id": "aUfVAaRvwnya",
        "outputId": "0c4a4d9e-0d5e-476a-e6f9-1af7b778758d"
      },
      "execution_count": null,
      "outputs": [
        {
          "output_type": "stream",
          "name": "stdout",
          "text": [
            "Relatório de Classsificação:\n",
            "              precision    recall  f1-score   support\n",
            "\n",
            "           0       0.80      0.84      0.82        93\n",
            "           1       0.82      0.78      0.80        87\n",
            "\n",
            "    accuracy                           0.81       180\n",
            "   macro avg       0.81      0.81      0.81       180\n",
            "weighted avg       0.81      0.81      0.81       180\n",
            "\n"
          ]
        }
      ]
    }
  ]
}